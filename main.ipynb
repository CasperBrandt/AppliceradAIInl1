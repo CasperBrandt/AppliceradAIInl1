{
 "cells": [
  {
   "cell_type": "code",
   "execution_count": 203,
   "metadata": {},
   "outputs": [],
   "source": [
    "import pandas as pd\n",
    "import numpy as np"
   ]
  },
  {
   "cell_type": "code",
   "execution_count": 204,
   "metadata": {},
   "outputs": [],
   "source": [
    "df = pd.read_csv('lagerstatus.csv')"
   ]
  },
  {
   "cell_type": "code",
   "execution_count": 205,
   "metadata": {},
   "outputs": [
    {
     "name": "stdout",
     "output_type": "stream",
     "text": [
      "      Paket_id  Vikt  Förtjänst  Deadline\n",
      "0   1680167724   8.6          4         2\n",
      "1   1680167725   8.8          3         4\n",
      "2   1680167726   2.4          5         2\n",
      "3   1680167727   8.0          8         2\n",
      "4   1680167728  10.3          6         1\n",
      "..         ...   ...        ...       ...\n",
      "95  1680167819   4.3          4         1\n",
      "96  1680167820   3.8          8         2\n",
      "97  1680167821   8.5          7        -2\n",
      "98  1680167822   4.7          8         3\n",
      "99  1680167823   7.8          4         3\n",
      "\n",
      "[100 rows x 4 columns]\n"
     ]
    }
   ],
   "source": [
    "print(df)"
   ]
  },
  {
   "cell_type": "code",
   "execution_count": null,
   "metadata": {},
   "outputs": [
    {
     "name": "stdout",
     "output_type": "stream",
     "text": [
      "597.7999999999998\n"
     ]
    }
   ],
   "source": [
    "def lasta_bil():\n",
    "    value = []\n",
    "    for index, row in df.iterrows():\n",
    "        p = row['Förtjänst'] / row['Vikt']\n",
    "        value.append((index, p))\n",
    "\n",
    "    value = sorted(\n",
    "        value, \n",
    "        key=lambda x: x[1],\n",
    "        reverse=True\n",
    "    )\n",
    "\n",
    "    vikt = 0\n",
    "    förtjänst = 0\n",
    "    last = []\n",
    "    for x in value:\n",
    "        paket = df.iloc[x[0]]\n",
    "        if vikt + paket['Vikt'] < 600:\n",
    "            vikt += paket['Vikt']\n",
    "            förtjänst += paket['Förtjänst']\n",
    "            last.append(paket['Paket_id'])\n",
    "\n",
    "    for x in last:\n",
    "        df.drop(df[df['Paket_id'] == x].index, inplace = True)\n",
    "    return vikt, förtjänst\n",
    "\n"
   ]
  },
  {
   "cell_type": "code",
   "execution_count": 210,
   "metadata": {},
   "outputs": [
    {
     "name": "stdout",
     "output_type": "stream",
     "text": [
      "      Paket_id  Vikt  Förtjänst  Deadline\n",
      "9   1680167733   7.6          1         1\n",
      "14  1680167738   8.6          2         2\n",
      "79  1680167803   8.2          2         0\n",
      "83  1680167807   5.7          1         0\n"
     ]
    }
   ],
   "source": [
    "print(df)"
   ]
  }
 ],
 "metadata": {
  "kernelspec": {
   "display_name": "Python 3",
   "language": "python",
   "name": "python3"
  },
  "language_info": {
   "codemirror_mode": {
    "name": "ipython",
    "version": 3
   },
   "file_extension": ".py",
   "mimetype": "text/x-python",
   "name": "python",
   "nbconvert_exporter": "python",
   "pygments_lexer": "ipython3",
   "version": "3.12.0"
  }
 },
 "nbformat": 4,
 "nbformat_minor": 2
}
